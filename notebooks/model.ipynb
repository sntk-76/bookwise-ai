{
 "cells": [
  {
   "cell_type": "markdown",
   "id": "2500b14e-40fa-4881-bda1-e571582eb684",
   "metadata": {},
   "source": [
    "# Import Libraries : "
   ]
  },
  {
   "cell_type": "code",
   "execution_count": 1,
   "id": "41f353a4-96f8-439d-956f-1bcbefa786b7",
   "metadata": {},
   "outputs": [],
   "source": [
    "import pandas as pd\n",
    "import numpy as np\n",
    "from sentence_transformers import SentenceTransformer\n",
    "from sklearn.metrics.pairwise import cosine_similarity"
   ]
  },
  {
   "cell_type": "markdown",
   "id": "a89a90f8-92f0-45f8-b38b-81946930721a",
   "metadata": {},
   "source": [
    "# Load Data & Model : "
   ]
  },
  {
   "cell_type": "code",
   "execution_count": 3,
   "id": "87ed203f-7ba1-44d0-bcc1-91a4216c32ab",
   "metadata": {},
   "outputs": [],
   "source": [
    "df = pd.read_csv('/home/sinatavakoli284/bookwise-ai/data/enriched_data.csv')\n",
    "book_vectors = np.load('/home/sinatavakoli284/bookwise-ai/data/embeddings.npy')\n",
    "model = SentenceTransformer('all-MiniLM-L6-v2')"
   ]
  },
  {
   "cell_type": "markdown",
   "id": "c9be0d79-4249-4fff-8978-4699a37f18d5",
   "metadata": {},
   "source": [
    "# Recommendation Function : "
   ]
  },
  {
   "cell_type": "code",
   "execution_count": 4,
   "id": "1e44d8a6-f4f4-4e8a-9855-002cabc357d2",
   "metadata": {},
   "outputs": [],
   "source": [
    "def recommend_books(user_input, model, book_vectors, df, top_n=3):\n",
    "\n",
    "    user_vector = model.encode([user_input])\n",
    "\n",
    "\n",
    "    similarity_scores = cosine_similarity(user_vector, book_vectors)[0]\n",
    "\n",
    "\n",
    "    top_indices = similarity_scores.argsort()[-top_n:][::-1]\n",
    "\n",
    "\n",
    "    results = df.iloc[top_indices].copy()\n",
    "    results['similarity'] = similarity_scores[top_indices]\n",
    "\n",
    "    return results\n"
   ]
  },
  {
   "cell_type": "code",
   "execution_count": 13,
   "id": "e93c82a0-cb4b-48ed-9f8b-92925b6b4244",
   "metadata": {},
   "outputs": [
    {
     "name": "stdout",
     "output_type": "stream",
     "text": [
      "\n",
      "Title: All the Light We Cannot See\n",
      "Author: Anthony Doerr\n",
      "Rating: 4.31\n",
      "Similarity Score: 0.576\n",
      "Description: An imaginative and intricate novel inspired by the horrors of World War II and written in short, elegant chapters that explore human nature and the contradictory power of technology....\n",
      "\n",
      "Title: The Diamond Age: or, A Young Lady's Illustrated Primer\n",
      "Author: Neal Stephenson\n",
      "Rating: 4.19\n",
      "Similarity Score: 0.491\n",
      "Description: CULT AUTHOR NEAL STEPHENSON'S UNSTOPPABLE SCI-FI CLASSIC The future is small. The future is nano . . . And who could be smaller or more insignificant than poor Little Nell - an orphan girl alone and adrift in a world of Confucian Law, Neo-Victorian values and warring nanotechnology? Well, not quite ...\n",
      "\n",
      "Title: Robopocalypse (Robopocalypse, #1)\n",
      "Author: Daniel H. Wilson\n",
      "Rating: 3.67\n",
      "Similarity Score: 0.483\n",
      "Description: NATIONAL BESTSELLER • This terrifying tale of humanity’s desperate stand against a robot uprising is the most entertaining sci-fi thriller in years. • “Terrific, page-turning fun.” —Stephen King, Entertainment Weekly Not far into our future, the dazzling technology that runs our world turns against ...\n"
     ]
    }
   ],
   "source": [
    "query = \"Recommend a science fiction novel that deals with futuristic technology and ethical dilemmas\"\n",
    "recommendations = recommend_books(query, model, book_vectors, df, top_n=3)\n",
    "\n",
    "\n",
    "for i, row in recommendations.iterrows():\n",
    "    print(f\"\\nTitle: {row['title']}\")\n",
    "    print(f\"Author: {row['authors']}\")\n",
    "    print(f\"Rating: {row['average_rating']}\")\n",
    "    print(f\"Similarity Score: {row['similarity']:.3f}\")\n",
    "    print(f\"Description: {row['description'][:300]}...\")\n"
   ]
  }
 ],
 "metadata": {
  "kernelspec": {
   "display_name": "Python 3 (ipykernel)",
   "language": "python",
   "name": "python3"
  },
  "language_info": {
   "codemirror_mode": {
    "name": "ipython",
    "version": 3
   },
   "file_extension": ".py",
   "mimetype": "text/x-python",
   "name": "python",
   "nbconvert_exporter": "python",
   "pygments_lexer": "ipython3",
   "version": "3.12.7"
  }
 },
 "nbformat": 4,
 "nbformat_minor": 5
}
