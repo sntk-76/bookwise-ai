{
 "cells": [
  {
   "cell_type": "markdown",
   "id": "2500b14e-40fa-4881-bda1-e571582eb684",
   "metadata": {},
   "source": [
    "# Import Libraries : "
   ]
  },
  {
   "cell_type": "code",
   "execution_count": 1,
   "id": "41f353a4-96f8-439d-956f-1bcbefa786b7",
   "metadata": {},
   "outputs": [],
   "source": [
    "import pandas as pd\n",
    "import numpy as np\n",
    "from sentence_transformers import SentenceTransformer\n",
    "from sklearn.metrics.pairwise import cosine_similarity"
   ]
  },
  {
   "cell_type": "markdown",
   "id": "a89a90f8-92f0-45f8-b38b-81946930721a",
   "metadata": {},
   "source": [
    "# Load Data & Model : "
   ]
  },
  {
   "cell_type": "code",
   "execution_count": 2,
   "id": "87ed203f-7ba1-44d0-bcc1-91a4216c32ab",
   "metadata": {},
   "outputs": [],
   "source": [
    "df = pd.read_csv('/home/sinatavakoli284/bookwise-ai/data/enriched_data.csv')\n",
    "book_vectors = np.load('/home/sinatavakoli284/bookwise-ai/data/embeddings.npy')\n",
    "model = SentenceTransformer('all-MiniLM-L6-v2')"
   ]
  },
  {
   "cell_type": "markdown",
   "id": "c9be0d79-4249-4fff-8978-4699a37f18d5",
   "metadata": {},
   "source": [
    "# Recommendation Function : "
   ]
  },
  {
   "cell_type": "code",
   "execution_count": 6,
   "id": "1e44d8a6-f4f4-4e8a-9855-002cabc357d2",
   "metadata": {},
   "outputs": [],
   "source": [
    "def recommend_books(user_input, model, book_vectors, df, top_n=3):\n",
    "    \n",
    "    try : \n",
    "\n",
    "        user_vector = model.encode([user_input])\n",
    "    \n",
    "    \n",
    "        similarity_scores = cosine_similarity(user_vector, book_vectors)[0]\n",
    "    \n",
    "    \n",
    "        top_indices = similarity_scores.argsort()[-top_n:][::-1]\n",
    "    \n",
    "    \n",
    "        results = df.iloc[top_indices].copy()\n",
    "        \n",
    "        results['similarity'] = similarity_scores[top_indices]\n",
    "        \n",
    "        return results\n",
    "\n",
    "    except : \n",
    "\n",
    "        message = \"no similar books were found \"\n",
    "        return message\n"
   ]
  },
  {
   "cell_type": "code",
   "execution_count": 13,
   "id": "e93c82a0-cb4b-48ed-9f8b-92925b6b4244",
   "metadata": {},
   "outputs": [
    {
     "name": "stdout",
     "output_type": "stream",
     "text": [
      "\n",
      "Title: Case Histories (Jackson Brodie #1)\n",
      "Author: Kate Atkinson\n",
      "Rating: 3.82\n",
      "Similarity Score: 0.343\n",
      "Description: Crime....\n",
      "\n",
      "Title: At Home: A Short History of Private Life\n",
      "Author: Bill Bryson\n",
      "Rating: 3.96\n",
      "Similarity Score: 0.283\n",
      "Description: Presents the history of the way we live....\n",
      "\n",
      "Title: The Wide Window (A Series of Unfortunate Events, #3)\n",
      "Author: Lemony Snicket, Brett Helquist\n",
      "Rating: 3.91\n",
      "Similarity Score: 0.260\n",
      "Description: Second copy....\n"
     ]
    }
   ],
   "source": [
    "query = \"\"\n",
    "recommendations = recommend_books(query, model, book_vectors, df, top_n=3)\n",
    "\n",
    "\n",
    "for i, row in recommendations.iterrows():\n",
    "    print(f\"\\nTitle: {row['title']}\")\n",
    "    print(f\"Author: {row['authors']}\")\n",
    "    print(f\"Rating: {row['average_rating']}\")\n",
    "    print(f\"Similarity Score: {row['similarity']:.3f}\")\n",
    "    print(f\"Description: {row['description'][:300]}...\")\n"
   ]
  },
  {
   "cell_type": "code",
   "execution_count": null,
   "id": "a3c3e632-f25b-4d55-9865-e881d2823b98",
   "metadata": {},
   "outputs": [],
   "source": []
  }
 ],
 "metadata": {
  "kernelspec": {
   "display_name": "Python 3 (ipykernel)",
   "language": "python",
   "name": "python3"
  },
  "language_info": {
   "codemirror_mode": {
    "name": "ipython",
    "version": 3
   },
   "file_extension": ".py",
   "mimetype": "text/x-python",
   "name": "python",
   "nbconvert_exporter": "python",
   "pygments_lexer": "ipython3",
   "version": "3.12.7"
  }
 },
 "nbformat": 4,
 "nbformat_minor": 5
}
