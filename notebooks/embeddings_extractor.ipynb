{
 "cells": [
  {
   "cell_type": "code",
   "execution_count": 1,
   "id": "298fbf61-66cf-4a21-8686-6be73e2e3ba7",
   "metadata": {},
   "outputs": [],
   "source": [
    "import pandas as pd\n",
    "import numpy as np \n",
    "from sentence_transformers import SentenceTransformer"
   ]
  },
  {
   "cell_type": "code",
   "execution_count": 2,
   "id": "bbace4a0-64ae-48eb-a497-d68bf6435e9d",
   "metadata": {},
   "outputs": [],
   "source": [
    "data = pd.read_csv('/home/sinatavakoli284/bookwise-ai/data/enriched_data.csv',index_col=0)"
   ]
  },
  {
   "cell_type": "code",
   "execution_count": 9,
   "id": "d9ad2c9c-1a6f-4fd2-b252-4e4931b0140d",
   "metadata": {},
   "outputs": [
    {
     "name": "stdout",
     "output_type": "stream",
     "text": [
      "<class 'pandas.core.frame.DataFrame'>\n",
      "Index: 4766 entries, 0 to 4765\n",
      "Data columns (total 8 columns):\n",
      " #   Column                     Non-Null Count  Dtype  \n",
      "---  ------                     --------------  -----  \n",
      " 0   book_id                    4766 non-null   int64  \n",
      " 1   authors                    4766 non-null   object \n",
      " 2   original_publication_year  4766 non-null   float64\n",
      " 3   title                      4766 non-null   object \n",
      " 4   language_code              4766 non-null   object \n",
      " 5   average_rating             4766 non-null   float64\n",
      " 6   image_url                  4766 non-null   object \n",
      " 7   description                4766 non-null   object \n",
      "dtypes: float64(2), int64(1), object(5)\n",
      "memory usage: 335.1+ KB\n"
     ]
    }
   ],
   "source": [
    "data.info()"
   ]
  },
  {
   "cell_type": "code",
   "execution_count": 4,
   "id": "db1928b0-5b98-489e-bf39-31fd562c4dbe",
   "metadata": {},
   "outputs": [
    {
     "data": {
      "application/vnd.jupyter.widget-view+json": {
       "model_id": "aae5a73e27de4984a88a2a5f9485c149",
       "version_major": 2,
       "version_minor": 0
      },
      "text/plain": [
       "Batches:   0%|          | 0/149 [00:00<?, ?it/s]"
      ]
     },
     "metadata": {},
     "output_type": "display_data"
    }
   ],
   "source": [
    "model = SentenceTransformer('all-MiniLM-L6-v2')\n",
    "description = data['description'].tolist()\n",
    "embeddings = model.encode(description,show_progress_bar=True)"
   ]
  },
  {
   "cell_type": "code",
   "execution_count": 8,
   "id": "825f0a2a-bd89-4cfa-a672-8072658442d5",
   "metadata": {},
   "outputs": [
    {
     "data": {
      "text/html": [
       "<div>\n",
       "<style scoped>\n",
       "    .dataframe tbody tr th:only-of-type {\n",
       "        vertical-align: middle;\n",
       "    }\n",
       "\n",
       "    .dataframe tbody tr th {\n",
       "        vertical-align: top;\n",
       "    }\n",
       "\n",
       "    .dataframe thead th {\n",
       "        text-align: right;\n",
       "    }\n",
       "</style>\n",
       "<table border=\"1\" class=\"dataframe\">\n",
       "  <thead>\n",
       "    <tr style=\"text-align: right;\">\n",
       "      <th></th>\n",
       "      <th>book_id</th>\n",
       "      <th>authors</th>\n",
       "      <th>original_publication_year</th>\n",
       "      <th>title</th>\n",
       "      <th>language_code</th>\n",
       "      <th>average_rating</th>\n",
       "      <th>image_url</th>\n",
       "      <th>description</th>\n",
       "    </tr>\n",
       "  </thead>\n",
       "  <tbody>\n",
       "    <tr>\n",
       "      <th>0</th>\n",
       "      <td>2767052</td>\n",
       "      <td>Suzanne Collins</td>\n",
       "      <td>2008.0</td>\n",
       "      <td>The Hunger Games (The Hunger Games, #1)</td>\n",
       "      <td>eng</td>\n",
       "      <td>4.34</td>\n",
       "      <td>https://images.gr-assets.com/books/1447303603m...</td>\n",
       "      <td>First in the ground-breaking HUNGER GAMES tril...</td>\n",
       "    </tr>\n",
       "    <tr>\n",
       "      <th>1</th>\n",
       "      <td>3</td>\n",
       "      <td>J.K. Rowling, Mary GrandPré</td>\n",
       "      <td>1997.0</td>\n",
       "      <td>Harry Potter and the Sorcerer's Stone (Harry P...</td>\n",
       "      <td>eng</td>\n",
       "      <td>4.44</td>\n",
       "      <td>https://images.gr-assets.com/books/1474154022m...</td>\n",
       "      <td>Rescued from the outrageous neglect of his aun...</td>\n",
       "    </tr>\n",
       "    <tr>\n",
       "      <th>2</th>\n",
       "      <td>41865</td>\n",
       "      <td>Stephenie Meyer</td>\n",
       "      <td>2005.0</td>\n",
       "      <td>Twilight (Twilight, #1)</td>\n",
       "      <td>en-US</td>\n",
       "      <td>3.57</td>\n",
       "      <td>https://images.gr-assets.com/books/1361039443m...</td>\n",
       "      <td>When 17 year old Isabella Swan moves to Forks,...</td>\n",
       "    </tr>\n",
       "    <tr>\n",
       "      <th>3</th>\n",
       "      <td>2657</td>\n",
       "      <td>Harper Lee</td>\n",
       "      <td>1960.0</td>\n",
       "      <td>To Kill a Mockingbird</td>\n",
       "      <td>eng</td>\n",
       "      <td>4.25</td>\n",
       "      <td>https://images.gr-assets.com/books/1361975680m...</td>\n",
       "      <td>Harper Lee's classic novel of a lawyer in the ...</td>\n",
       "    </tr>\n",
       "    <tr>\n",
       "      <th>4</th>\n",
       "      <td>4671</td>\n",
       "      <td>F. Scott Fitzgerald</td>\n",
       "      <td>1925.0</td>\n",
       "      <td>The Great Gatsby</td>\n",
       "      <td>eng</td>\n",
       "      <td>3.89</td>\n",
       "      <td>https://images.gr-assets.com/books/1490528560m...</td>\n",
       "      <td>The only authorized edition of the twentieth-c...</td>\n",
       "    </tr>\n",
       "    <tr>\n",
       "      <th>...</th>\n",
       "      <td>...</td>\n",
       "      <td>...</td>\n",
       "      <td>...</td>\n",
       "      <td>...</td>\n",
       "      <td>...</td>\n",
       "      <td>...</td>\n",
       "      <td>...</td>\n",
       "      <td>...</td>\n",
       "    </tr>\n",
       "    <tr>\n",
       "      <th>4761</th>\n",
       "      <td>13489518</td>\n",
       "      <td>Quinn Loftis</td>\n",
       "      <td>2012.0</td>\n",
       "      <td>Out of the Dark (The Grey Wolves, #4)</td>\n",
       "      <td>eng</td>\n",
       "      <td>4.50</td>\n",
       "      <td>https://images.gr-assets.com/books/1334785691m...</td>\n",
       "      <td>He is mine and I am his. I will move every obs...</td>\n",
       "    </tr>\n",
       "    <tr>\n",
       "      <th>4762</th>\n",
       "      <td>13616278</td>\n",
       "      <td>Miles  Cameron</td>\n",
       "      <td>2012.0</td>\n",
       "      <td>The Red Knight (The Traitor Son Cycle, #1)</td>\n",
       "      <td>eng</td>\n",
       "      <td>4.12</td>\n",
       "      <td>https://images.gr-assets.com/books/1348037761m...</td>\n",
       "      <td>SOME ARE BORN TO POWER SOME SEIZE IT AND SOME ...</td>\n",
       "    </tr>\n",
       "    <tr>\n",
       "      <th>4763</th>\n",
       "      <td>4769651</td>\n",
       "      <td>Michael Buckley, Peter Ferguson</td>\n",
       "      <td>2009.0</td>\n",
       "      <td>The Everafter War (The Sisters Grimm, #7)</td>\n",
       "      <td>eng</td>\n",
       "      <td>4.32</td>\n",
       "      <td>https://images.gr-assets.com/books/1388278230m...</td>\n",
       "      <td>Picking up after the dramatic cliffhanger that...</td>\n",
       "    </tr>\n",
       "    <tr>\n",
       "      <th>4764</th>\n",
       "      <td>7130616</td>\n",
       "      <td>Ilona Andrews</td>\n",
       "      <td>2010.0</td>\n",
       "      <td>Bayou Moon (The Edge, #2)</td>\n",
       "      <td>eng</td>\n",
       "      <td>4.09</td>\n",
       "      <td>https://images.gr-assets.com/books/1307445460m...</td>\n",
       "      <td>The Edge lies between worlds, on the border be...</td>\n",
       "    </tr>\n",
       "    <tr>\n",
       "      <th>4765</th>\n",
       "      <td>208324</td>\n",
       "      <td>Robert A. Caro</td>\n",
       "      <td>1990.0</td>\n",
       "      <td>Means of Ascent (The Years of Lyndon Johnson, #2)</td>\n",
       "      <td>eng</td>\n",
       "      <td>4.25</td>\n",
       "      <td>https://s.gr-assets.com/assets/nophoto/book/11...</td>\n",
       "      <td>In Means of Ascent, Book Two of The Years of L...</td>\n",
       "    </tr>\n",
       "  </tbody>\n",
       "</table>\n",
       "<p>4766 rows × 8 columns</p>\n",
       "</div>"
      ],
      "text/plain": [
       "       book_id                          authors  original_publication_year  \\\n",
       "0      2767052                  Suzanne Collins                     2008.0   \n",
       "1            3      J.K. Rowling, Mary GrandPré                     1997.0   \n",
       "2        41865                  Stephenie Meyer                     2005.0   \n",
       "3         2657                       Harper Lee                     1960.0   \n",
       "4         4671              F. Scott Fitzgerald                     1925.0   \n",
       "...        ...                              ...                        ...   \n",
       "4761  13489518                     Quinn Loftis                     2012.0   \n",
       "4762  13616278                   Miles  Cameron                     2012.0   \n",
       "4763   4769651  Michael Buckley, Peter Ferguson                     2009.0   \n",
       "4764   7130616                    Ilona Andrews                     2010.0   \n",
       "4765    208324                   Robert A. Caro                     1990.0   \n",
       "\n",
       "                                                  title language_code  \\\n",
       "0               The Hunger Games (The Hunger Games, #1)           eng   \n",
       "1     Harry Potter and the Sorcerer's Stone (Harry P...           eng   \n",
       "2                               Twilight (Twilight, #1)         en-US   \n",
       "3                                 To Kill a Mockingbird           eng   \n",
       "4                                      The Great Gatsby           eng   \n",
       "...                                                 ...           ...   \n",
       "4761              Out of the Dark (The Grey Wolves, #4)           eng   \n",
       "4762         The Red Knight (The Traitor Son Cycle, #1)           eng   \n",
       "4763          The Everafter War (The Sisters Grimm, #7)           eng   \n",
       "4764                          Bayou Moon (The Edge, #2)           eng   \n",
       "4765  Means of Ascent (The Years of Lyndon Johnson, #2)           eng   \n",
       "\n",
       "      average_rating                                          image_url  \\\n",
       "0               4.34  https://images.gr-assets.com/books/1447303603m...   \n",
       "1               4.44  https://images.gr-assets.com/books/1474154022m...   \n",
       "2               3.57  https://images.gr-assets.com/books/1361039443m...   \n",
       "3               4.25  https://images.gr-assets.com/books/1361975680m...   \n",
       "4               3.89  https://images.gr-assets.com/books/1490528560m...   \n",
       "...              ...                                                ...   \n",
       "4761            4.50  https://images.gr-assets.com/books/1334785691m...   \n",
       "4762            4.12  https://images.gr-assets.com/books/1348037761m...   \n",
       "4763            4.32  https://images.gr-assets.com/books/1388278230m...   \n",
       "4764            4.09  https://images.gr-assets.com/books/1307445460m...   \n",
       "4765            4.25  https://s.gr-assets.com/assets/nophoto/book/11...   \n",
       "\n",
       "                                            description  \n",
       "0     First in the ground-breaking HUNGER GAMES tril...  \n",
       "1     Rescued from the outrageous neglect of his aun...  \n",
       "2     When 17 year old Isabella Swan moves to Forks,...  \n",
       "3     Harper Lee's classic novel of a lawyer in the ...  \n",
       "4     The only authorized edition of the twentieth-c...  \n",
       "...                                                 ...  \n",
       "4761  He is mine and I am his. I will move every obs...  \n",
       "4762  SOME ARE BORN TO POWER SOME SEIZE IT AND SOME ...  \n",
       "4763  Picking up after the dramatic cliffhanger that...  \n",
       "4764  The Edge lies between worlds, on the border be...  \n",
       "4765  In Means of Ascent, Book Two of The Years of L...  \n",
       "\n",
       "[4766 rows x 8 columns]"
      ]
     },
     "execution_count": 8,
     "metadata": {},
     "output_type": "execute_result"
    }
   ],
   "source": [
    "data"
   ]
  },
  {
   "cell_type": "code",
   "execution_count": 11,
   "id": "59da4c85-db0e-4844-b878-3d450f553ec3",
   "metadata": {},
   "outputs": [
    {
     "data": {
      "text/plain": [
       "(4766, 384)"
      ]
     },
     "execution_count": 11,
     "metadata": {},
     "output_type": "execute_result"
    }
   ],
   "source": [
    "embeddings.shape"
   ]
  },
  {
   "cell_type": "code",
   "execution_count": 6,
   "id": "e6dfd187-46ee-4710-900b-0bb0af3afc2d",
   "metadata": {},
   "outputs": [],
   "source": [
    "np.save('/home/sinatavakoli284/bookwise-ai/data/embeddings.npy',embeddings)"
   ]
  }
 ],
 "metadata": {
  "kernelspec": {
   "display_name": "Python 3 (ipykernel)",
   "language": "python",
   "name": "python3"
  },
  "language_info": {
   "codemirror_mode": {
    "name": "ipython",
    "version": 3
   },
   "file_extension": ".py",
   "mimetype": "text/x-python",
   "name": "python",
   "nbconvert_exporter": "python",
   "pygments_lexer": "ipython3",
   "version": "3.12.7"
  }
 },
 "nbformat": 4,
 "nbformat_minor": 5
}
